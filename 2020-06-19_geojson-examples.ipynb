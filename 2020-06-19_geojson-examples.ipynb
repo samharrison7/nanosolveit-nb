{
 "cells": [
  {
   "cell_type": "markdown",
   "metadata": {},
   "source": [
    "# GeoJSON to Shapefile\n",
    "\n",
    "Creating a Shapefile from two GeoJSON files:"
   ]
  },
  {
   "cell_type": "code",
   "execution_count": 26,
   "metadata": {},
   "outputs": [],
   "source": [
    "import geopandas as gpd\n",
    "import pandas as pd\n",
    "\n",
    "files = [\n",
    "    '51afd3da5d5a783b576af4cce9b93e8d.json',\n",
    "    'f7bf04d6f83e4e7e347742c609fc7059.json'\n",
    "]\n",
    "\n",
    "gdf = gpd.read_file('51afd3da5d5a783b576af4cce9b93e8d.json')\n",
    "gdf = gdf.append(gpd.read_file('f7bf04d6f83e4e7e347742c609fc7059.json'))\n",
    "gdf.to_file('points.shp')"
   ]
  },
  {
   "cell_type": "markdown",
   "metadata": {},
   "source": [
    "Checking this was saved correctly:"
   ]
  },
  {
   "cell_type": "code",
   "execution_count": 32,
   "metadata": {},
   "outputs": [
    {
     "data": {
      "text/plain": [
       "<matplotlib.axes._subplots.AxesSubplot at 0x7f19682b2f60>"
      ]
     },
     "execution_count": 32,
     "metadata": {},
     "output_type": "execute_result"
    },
    {
     "data": {
      "image/png": "[encoded data removed]",
      "text/plain": [
       "<Figure size 432x288 with 1 Axes>"
      ]
     },
     "metadata": {
      "needs_background": "light"
     },
     "output_type": "display_data"
    }
   ],
   "source": [
    "import plotly.express as px\n",
    "\n",
    "%matplotlib inline\n",
    "\n",
    "gdf = gpd.read_file('points.shp')\n",
    "gdf.plot()"
   ]
  },
  {
   "cell_type": "markdown",
   "metadata": {},
   "source": [
    "# GeoJSON to GeoTIFF"
   ]
  },
  {
   "cell_type": "markdown",
   "metadata": {},
   "source": [
    "Creating a GeoTIFF file using a GeoJSON shape, by using the shape to clip a larger raster."
   ]
  },
  {
   "cell_type": "code",
   "execution_count": 2,
   "metadata": {
    "scrolled": true
   },
   "outputs": [
    {
     "data": {
      "image/png": "[encoded data removed]",
      "text/plain": [
       "<Figure size 432x288 with 1 Axes>"
      ]
     },
     "metadata": {
      "needs_background": "light"
     },
     "output_type": "display_data"
    },
    {
     "data": {
      "text/plain": [
       "<matplotlib.axes._subplots.AxesSubplot at 0x7f03cb240b38>"
      ]
     },
     "execution_count": 2,
     "metadata": {},
     "output_type": "execute_result"
    }
   ],
   "source": [
    "import rasterio as rio\n",
    "from rasterio.plot import show\n",
    "from rasterio.mask import mask\n",
    "\n",
    "%matplotlib inline\n",
    "\n",
    "# Open the large raster to clip down\n",
    "rs = rio.open('example_raster.tif')\n",
    "show(rs)"
   ]
  },
  {
   "cell_type": "markdown",
   "metadata": {},
   "source": [
    "Loading the JSON and creating a Shapely Polygon from it:"
   ]
  },
  {
   "cell_type": "code",
   "execution_count": 4,
   "metadata": {},
   "outputs": [
    {
     "name": "stdout",
     "output_type": "stream",
     "text": [
      "Bounds (original CRS): (-0.2273235804894398, 51.558797354342516, -0.16147891874280162, 51.60364433752355)\n"
     ]
    },
    {
     "data": {
      "image/svg+xml": [
       "<svg xmlns=\"http://www.w3.org/2000/svg\" xmlns:xlink=\"http://www.w3.org/1999/xlink\" width=\"100.0\" height=\"100.0\" viewBox=\"-0.22995736695930533 51.55616356787265 0.07111223468636924 0.05011455612076077\" preserveAspectRatio=\"xMinYMin meet\"><g transform=\"matrix(1,0,0,-1,0,103.16244169186606)\"><path fill-rule=\"evenodd\" fill=\"#66cc99\" stroke=\"#555555\" stroke-width=\"0.0014222446937273848\" opacity=\"0.6\" d=\"M -0.22358567392797113,51.59417834178015 L -0.2273235804894398,51.558797354342516 L -0.17959338900479338,51.559333635412685 L -0.16147891874280162,51.60364433752355 L -0.22358567392797113,51.59417834178015 z\" /></g></svg>"
      ],
      "text/plain": [
       "<shapely.geometry.polygon.Polygon at 0x7f03f1f98390>"
      ]
     },
     "execution_count": 4,
     "metadata": {},
     "output_type": "execute_result"
    }
   ],
   "source": [
    "import json\n",
    "from shapely.geometry import shape\n",
    "\n",
    "with open('00bbda8b068d775fe1f835c32d52a15c.json') as file:\n",
    "    area = json.load(file)\n",
    "    \n",
    "geom = shape(area['geometry'])\n",
    "print(f\"Bounds (original CRS): {geom.bounds}\")\n",
    "geom"
   ]
  },
  {
   "cell_type": "markdown",
   "metadata": {},
   "source": [
    "We need to convert the geometry to same CRS as the raster to clip, especially seeing as the GeoJSON is lat/lon and the raster is projected. For the NanoFASE model, the desired CRS is EPSG:27700. Here, I assume the GeoJSON file was EPSG:4326:"
   ]
  },
  {
   "cell_type": "code",
   "execution_count": 5,
   "metadata": {},
   "outputs": [
    {
     "name": "stdout",
     "output_type": "stream",
     "text": [
      "Bounds (EPSG:27700): (522983.7623877871, 185923.77746658964, 527422.5520781561, 191023.67125141388)\n"
     ]
    },
    {
     "data": {
      "image/svg+xml": [
       "<svg xmlns=\"http://www.w3.org/2000/svg\" xmlns:xlink=\"http://www.w3.org/1999/xlink\" width=\"300\" height=\"300\" viewBox=\"522779.76663639414 185719.78171519667 4846.781193154922 5507.885287610174\" preserveAspectRatio=\"xMinYMin meet\"><g transform=\"matrix(1,0,0,-1,0,376947.4487180035)\"><path fill-rule=\"evenodd\" fill=\"#66cc99\" stroke=\"#555555\" stroke-width=\"36.71923525073449\" opacity=\"0.6\" d=\"M 523147.2798697631,189864.63996947114 L 522983.7623877871,185923.77746658964 L 526290.8259488591,186064.68382024963 L 527422.5520781561,191023.67125141388 L 523147.2798697631,189864.63996947114 z\" /></g></svg>"
      ],
      "text/plain": [
       "<shapely.geometry.polygon.Polygon at 0x7f03f1f43c18>"
      ]
     },
     "execution_count": 5,
     "metadata": {},
     "output_type": "execute_result"
    }
   ],
   "source": [
    "from functools import partial\n",
    "import pyproj\n",
    "from shapely.ops import transform\n",
    "\n",
    "project = partial(\n",
    "    pyproj.transform,\n",
    "    pyproj.Proj(init='epsg:4326'),  # Source coordinate system (WGS84)\n",
    "    pyproj.Proj(init='epsg:27700')) # Destination coordinate system (British National Grid)\n",
    "# Do the transformation\n",
    "geom_transformed = transform(project, geom)\n",
    "print(f\"Bounds (EPSG:27700): {geom_transformed.bounds}\")\n",
    "geom_transformed"
   ]
  },
  {
   "cell_type": "markdown",
   "metadata": {},
   "source": [
    "Using Rasterio's mask method to clip using this polygon and save to new file:"
   ]
  },
  {
   "cell_type": "code",
   "execution_count": 6,
   "metadata": {},
   "outputs": [],
   "source": [
    "# Do the clipping\n",
    "out_ma, out_transform = mask(rs, [geom_transformed], crop=True, filled=False)\n",
    "# Copy over the metadata\n",
    "out_meta = rs.meta\n",
    "# Update the height, width and transform for the new raster\n",
    "out_meta.update({\"driver\": \"GTiff\",\n",
    "                 \"height\": out_ma.shape[1],\n",
    "                 \"width\": out_ma.shape[2],\n",
    "                 \"transform\": out_transform})\n",
    "# Write the new raster to file\n",
    "with rio.open(\"clipped.tif\", \"w\", **out_meta) as dest:\n",
    "    dest.write(out_ma)"
   ]
  },
  {
   "cell_type": "markdown",
   "metadata": {},
   "source": [
    "Checking this saved okay:"
   ]
  },
  {
   "cell_type": "code",
   "execution_count": 7,
   "metadata": {
    "scrolled": true
   },
   "outputs": [
    {
     "data": {
      "image/png": "[encoded data removed]",
      "text/plain": [
       "<Figure size 432x288 with 1 Axes>"
      ]
     },
     "metadata": {
      "needs_background": "light"
     },
     "output_type": "display_data"
    }
   ],
   "source": [
    "with rio.open(\"clipped.tif\") as rs:\n",
    "    rio.plot.show(rs)"
   ]
  },
  {
   "cell_type": "markdown",
   "metadata": {},
   "source": [
    "# GeoJSON to GeoTIFF without a raster to clip\n",
    "\n",
    "Creating a GeoTIFF with a constant value, with the same extent as a GeoJSON file. Assuming we've already created a Shapely polygon from the GeoJSON and transformed it (as per above)."
   ]
  },
  {
   "cell_type": "code",
   "execution_count": 53,
   "metadata": {},
   "outputs": [],
   "source": [
    "import numpy as np\n",
    "from rasterio.transform import from_bounds\n",
    "\n",
    "# Grid cell resolution\n",
    "res = 5000\n",
    "\n",
    "# Get the bounds of the Shapely polygon, used to set the height/width of raster\n",
    "minx, miny, maxx, maxy = geom_transformed.bounds\n",
    "# Assume we want all pixels (cells) touched by the polygon, so round the min and max coords to encompass these\n",
    "minx_rounded = minx - minx % res\n",
    "maxx_rounded = maxx + (res - maxx) % res\n",
    "miny_rounded = miny - miny % res\n",
    "maxy_rounded = maxy + (res - maxy) % res\n",
    "shape = (1,\n",
    "         int((maxx_rounded - minx_rounded) / res),\n",
    "         int((maxy_rounded - miny_rounded) / res))\n",
    "\n",
    "# Create an array with these dimensions and fill with a constant value\n",
    "arr = np.full(shape, fill_value=42.0)\n",
    "\n",
    "# Create an affine transformation to use to create raster\n",
    "transform = from_bounds(minx_rounded, miny_rounded, maxx_rounded, maxy_rounded, shape[1], shape[2])\n",
    "\n",
    "# Create out_meta to pass to rasterio when creating the raster\n",
    "out_meta = {\n",
    "    \"driver\": \"GTiff\",\n",
    "    \"height\": shape[1],\n",
    "    \"width\": shape[2],\n",
    "    \"transform\": transform,\n",
    "    \"count\": 1,\n",
    "    \"dtype\": arr.dtype,\n",
    "    \"crs\": 'EPSG:27700'\n",
    "}\n",
    "\n",
    "with rio.open('constant_rs.tif', 'w', **out_meta) as dest:\n",
    "    dest.write(arr)"
   ]
  },
  {
   "cell_type": "markdown",
   "metadata": {},
   "source": [
    "Checking the raster was saved correctly:"
   ]
  },
  {
   "cell_type": "code",
   "execution_count": 54,
   "metadata": {
    "scrolled": true
   },
   "outputs": [
    {
     "data": {
      "image/png": "[encoded data removed]",
      "text/plain": [
       "<Figure size 432x288 with 1 Axes>"
      ]
     },
     "metadata": {
      "needs_background": "light"
     },
     "output_type": "display_data"
    }
   ],
   "source": [
    "with rio.open('constant_rs.tif') as src:\n",
    "    show(src)"
   ]
  },
  {
   "cell_type": "markdown",
   "metadata": {},
   "source": [
    "The above will create a raster with the bounding box being the bounding box of the polygon. However, it won't be clipped to the polygon itself (e.g. if the polygon is a shape such that there are cells within the bounding box that aren't in the polygon). To do that, it's easiest to mask this raster as we did before:"
   ]
  },
  {
   "cell_type": "code",
   "execution_count": null,
   "metadata": {},
   "outputs": [],
   "source": [
    "# Do the clipping\n",
    "with open('constant_rs.tif') as src:\n",
    "    out_ma, out_transform = mask(src, [geom_transformed], crop=True, filled=False)\n",
    "    out_meta = src.meta\n",
    "\n",
    "## We shouldn't have to update the metadata for the raster - it should be the same\n",
    "\n",
    "# Write the clipped raster\n",
    "with rio.open(\"clipped.tif\", \"w\", **out_meta) as dest:\n",
    "    dest.write(out_ma)"
   ]
  }
 ],
 "metadata": {
  "kernelspec": {
   "display_name": "Python [conda env:dev]",
   "language": "python",
   "name": "conda-env-dev-py"
  },
  "language_info": {
   "codemirror_mode": {
    "name": "ipython",
    "version": 3
   },
   "file_extension": ".py",
   "mimetype": "text/x-python",
   "name": "python",
   "nbconvert_exporter": "python",
   "pygments_lexer": "ipython3",
   "version": "3.7.3"
  }
 },
 "nbformat": 4,
 "nbformat_minor": 4
}
