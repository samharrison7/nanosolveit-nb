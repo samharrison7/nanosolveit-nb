{
 "cells": [
  {
   "cell_type": "markdown",
   "metadata": {},
   "source": [
    "# GeoJSON to Shapefile\n",
    "\n",
    "Creating a Shapefile from a GeoJSON file."
   ]
  },
  {
   "cell_type": "code",
   "execution_count": 14,
   "metadata": {},
   "outputs": [
    {
     "data": {
      "text/html": [
       "<div>\n",
       "<style scoped>\n",
       "    .dataframe tbody tr th:only-of-type {\n",
       "        vertical-align: middle;\n",
       "    }\n",
       "\n",
       "    .dataframe tbody tr th {\n",
       "        vertical-align: top;\n",
       "    }\n",
       "\n",
       "    .dataframe thead th {\n",
       "        text-align: right;\n",
       "    }\n",
       "</style>\n",
       "<table border=\"1\" class=\"dataframe\">\n",
       "  <thead>\n",
       "    <tr style=\"text-align: right;\">\n",
       "      <th></th>\n",
       "      <th>_id</th>\n",
       "      <th>geometry</th>\n",
       "      <th>id</th>\n",
       "      <th>properties</th>\n",
       "      <th>type</th>\n",
       "      <th>userId</th>\n",
       "    </tr>\n",
       "  </thead>\n",
       "  <tbody>\n",
       "    <tr>\n",
       "      <th>0</th>\n",
       "      <td>f7bf04d6f83e4e7e347742c609fc7059</td>\n",
       "      <td>{'coordinates': [-0.14718502102715547, 51.5521...</td>\n",
       "      <td>f7bf04d6f83e4e7e347742c609fc7059</td>\n",
       "      <td>{'nanomaterial': 'TiO2', 'description': 'asdf'...</td>\n",
       "      <td>Feature</td>\n",
       "      <td>3abf848d-e297-4e68-8072-2dd1ced89505</td>\n",
       "    </tr>\n",
       "  </tbody>\n",
       "</table>\n",
       "</div>"
      ],
      "text/plain": [
       "                                _id  \\\n",
       "0  f7bf04d6f83e4e7e347742c609fc7059   \n",
       "\n",
       "                                            geometry  \\\n",
       "0  {'coordinates': [-0.14718502102715547, 51.5521...   \n",
       "\n",
       "                                 id  \\\n",
       "0  f7bf04d6f83e4e7e347742c609fc7059   \n",
       "\n",
       "                                          properties     type  \\\n",
       "0  {'nanomaterial': 'TiO2', 'description': 'asdf'...  Feature   \n",
       "\n",
       "                                 userId  \n",
       "0  3abf848d-e297-4e68-8072-2dd1ced89505  "
      ]
     },
     "execution_count": 14,
     "metadata": {},
     "output_type": "execute_result"
    }
   ],
   "source": [
    "import geopandas as gpd\n",
    "\n",
    "geojson_dict = [{'_id': 'f7bf04d6f83e4e7e347742c609fc7059', 'properties': {'nanomaterial': 'TiO2', 'description': 'asdf', 'title': 'point 2', 'compartment': 'Soil', 'date': 1592567262655, 'temporalProfile': 'P1', 'emission': '1324', 'form': 'Matrix embedded', 'saved': True}, 'id': 'f7bf04d6f83e4e7e347742c609fc7059', 'geometry': {'coordinates': [-0.14718502102715547, 51.552133335407376], 'type': 'Point'}, 'userId': '3abf848d-e297-4e68-8072-2dd1ced89505', 'type': 'Feature'}]\n",
    "\n",
    "gdf = gpd.read_file('')"
   ]
  },
  {
   "cell_type": "markdown",
   "metadata": {},
   "source": [
    "# GeoJSON to GeoTIFF"
   ]
  },
  {
   "cell_type": "markdown",
   "metadata": {},
   "source": [
    "Creating a GeoTIFF file using a GeoJSON shape, by using the shape to clip a larger raster."
   ]
  },
  {
   "cell_type": "code",
   "execution_count": 19,
   "metadata": {
    "scrolled": true
   },
   "outputs": [
    {
     "data": {
      "image/png": "[encoded data removed]",
      "text/plain": [
       "<Figure size 432x288 with 1 Axes>"
      ]
     },
     "metadata": {
      "needs_background": "light"
     },
     "output_type": "display_data"
    },
    {
     "data": {
      "text/plain": [
       "<matplotlib.axes._subplots.AxesSubplot at 0x7fe04bd4ad68>"
      ]
     },
     "execution_count": 19,
     "metadata": {},
     "output_type": "execute_result"
    }
   ],
   "source": [
    "import rasterio as rio\n",
    "from rasterio.plot import show\n",
    "\n",
    "%matplotlib inline\n",
    "\n",
    "# Open the large raster to clip down\n",
    "rs = rio.open('example_raster.tif')\n",
    "show(rs)"
   ]
  },
  {
   "cell_type": "code",
   "execution_count": null,
   "metadata": {},
   "outputs": [],
   "source": [
    "from shapely.geometry.polygon import LinearRing\n",
    "\n"
   ]
  }
 ],
 "metadata": {
  "kernelspec": {
   "display_name": "Python [conda env:dev]",
   "language": "python",
   "name": "conda-env-dev-py"
  },
  "language_info": {
   "codemirror_mode": {
    "name": "ipython",
    "version": 3
   },
   "file_extension": ".py",
   "mimetype": "text/x-python",
   "name": "python",
   "nbconvert_exporter": "python",
   "pygments_lexer": "ipython3",
   "version": "3.7.3"
  }
 },
 "nbformat": 4,
 "nbformat_minor": 4
}
