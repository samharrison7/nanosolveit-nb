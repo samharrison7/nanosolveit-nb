{
 "cells": [
  {
   "cell_type": "markdown",
   "metadata": {},
   "source": [
    "# Examples of how to modify input data to NanoFASE model\n",
    "\n",
    "This notebook details a number of different options for modifying input to the NanoFASE model, specifically focussing on spatial (and temporal) emissions data.\n",
    "\n",
    "For a recap on how data input to the NanoFASE model works, see [this slide](https://docs.google.com/presentation/d/1S3-_ea1pGU7F4zP0X6PqphHA5UyWGoQBqg57AE4SJXc). In summary, a separate set of Python scripts (\"NanoFASE data module\") pre-compiles the data from multiple input files to these files, which are input into the model:\n",
    "- Config file, which specifies where the rest of the data is. The config file is passed to the model as a command line parameter. [Example file](https://github.com/NERC-CEH/nanofase/blob/flat-data/config/thames_tio2_2015.nml).\n",
    "- Constants file, which specifies data with no spatial or temporal resolution. [Example file](https://github.com/NERC-CEH/nanofase/blob/flat-data/data/thames/constants_tio2.nml).\n",
    "- Spatiotemporal data in a NetCDF file. [Example file](https://www.dropbox.com/s/87sc46za77i4sqr/flat_tio2_2015.nc?dl=0).\n",
    "- **Soon to be deprecated**. Some legacy data is stored in another NetCDF file, which is being deprecated for the main NetCDF file, which is much more efficient. But at this stage, a few variables are still retrieved from this file. [Example file](https://www.dropbox.com/s/690b2xv1mkotyqb/data.nc?dl=0).\n",
    "\n",
    "## Directly modifying the (main) NetCDF input file\n",
    "\n",
    "The simplest way to alter (emissions) input data is to edit the NetCDF file directly.\n",
    "\n",
    "### Areal emissions\n",
    "\n",
    "For example, say we want to alter the pristine NM emissions to soil. These are stored in the `emissions_areal_soil_pristine` variable. We can use [Rasterio](https://rasterio.readthedocs.io/en/latest/) to have a quick look at the data currently stored in that variable:"
   ]
  },
  {
   "cell_type": "code",
   "execution_count": 6,
   "metadata": {},
   "outputs": [
    {
     "data": {
      "image/png": "[encoded data removed]",
      "text/plain": [
       "<Figure size 432x288 with 1 Axes>"
      ]
     },
     "metadata": {
      "needs_background": "light"
     },
     "output_type": "display_data"
    }
   ],
   "source": [
    "import rasterio as rio\n",
    "from rasterio.plot import show\n",
    "\n",
    "%matplotlib inline\n",
    "\n",
    "# Path to our current NetCDF input file\n",
    "nc_path = '/home/sharrison/nf/data/processed/model-input/thames/2020-03-20_tio2_2015_corrected-emissions/flat_tio2_2015.nc'\n",
    "\n",
    "# Rasterio can directly open spatial variables from NetCDF files using the syntax 'netcdf:/path/to/file.nc:variable'\n",
    "with rio.open(f'netcdf:{nc_path}:emissions_areal_soil_pristine') as rs:\n",
    "    show(rs)"
   ]
  },
  {
   "cell_type": "markdown",
   "metadata": {},
   "source": [
    "The above plot is areal pristine NM emissions to soil for the Thames catchment.\n",
    "\n",
    "To alter the data stored in this variable, we will use the Python netCDF4 library. Firstly, opening the NetCDF file and having a look at its contents:"
   ]
  },
  {
   "cell_type": "code",
   "execution_count": 7,
   "metadata": {},
   "outputs": [
    {
     "data": {
      "text/plain": [
       "<class 'netCDF4._netCDF4.Dataset'>\n",
       "root group (NETCDF4 data model, file format HDF5):\n",
       "    title: Input data for NanoFASE model\n",
       "    Conventions: CF-1.6\n",
       "    dimensions(sizes): t(365), x(44), y(27), d(2), w(7), box(4), p(3), l(12)\n",
       "    variables(dimensions): int32 \u001b[4mcrs\u001b[0m(), int32 \u001b[4mt\u001b[0m(t), float32 \u001b[4mx\u001b[0m(x), float32 \u001b[4my\u001b[0m(y), int32 \u001b[4mgrid_shape\u001b[0m(d), float32 \u001b[4mgrid_res\u001b[0m(d), float32 \u001b[4mgrid_bounds\u001b[0m(box), int32 \u001b[4mflow_dir\u001b[0m(y,x), uint8 \u001b[4mis_estuary\u001b[0m(y,x), int16 \u001b[4moutflow\u001b[0m(y,x,d), int16 \u001b[4minflows\u001b[0m(y,x,w,d), int16 \u001b[4mn_waterbodies\u001b[0m(y,x), uint8 \u001b[4mis_headwater\u001b[0m(y,x), float32 \u001b[4msoil_bulk_density\u001b[0m(y,x), float32 \u001b[4msoil_water_content_field_capacity\u001b[0m(y,x), float32 \u001b[4msoil_water_content_saturation\u001b[0m(y,x), float32 \u001b[4msoil_hydraulic_conductivity\u001b[0m(y,x), float32 \u001b[4msoil_texture_clay_content\u001b[0m(y,x), float32 \u001b[4msoil_texture_sand_content\u001b[0m(y,x), float32 \u001b[4msoil_texture_silt_content\u001b[0m(y,x), float32 \u001b[4msoil_texture_coarse_frag_content\u001b[0m(y,x), float32 \u001b[4msoil_usle_c_factor\u001b[0m(y,x), float32 \u001b[4msoil_usle_p_factor\u001b[0m(y,x), float32 \u001b[4msoil_usle_ls_factor\u001b[0m(y,x), float32 \u001b[4memissions_areal_soil_pristine\u001b[0m(y,x), float32 \u001b[4memissions_areal_soil_matrixembedded\u001b[0m(y,x), float32 \u001b[4memissions_areal_soil_transformed\u001b[0m(y,x), float32 \u001b[4memissions_areal_water_pristine\u001b[0m(y,x), float32 \u001b[4memissions_areal_water_matrixembedded\u001b[0m(y,x), float32 \u001b[4memissions_areal_water_transformed\u001b[0m(y,x), float32 \u001b[4mland_use\u001b[0m(l,y,x), float32 \u001b[4memissions_point_water_pristine\u001b[0m(p,t,y,x), float32 \u001b[4memissions_point_water_pristine_coords\u001b[0m(d,p,y,x), float32 \u001b[4memissions_point_water_matrixembedded\u001b[0m(p,t,y,x), float32 \u001b[4memissions_point_water_matrixembedded_coords\u001b[0m(d,p,y,x), float32 \u001b[4memissions_point_water_transformed\u001b[0m(p,t,y,x), float32 \u001b[4memissions_point_water_transformed_coords\u001b[0m(d,p,y,x), float32 \u001b[4mrunoff\u001b[0m(t,y,x), float64 \u001b[4mprecip\u001b[0m(t,y,x), float32 \u001b[4memissions_atmospheric_drydepo_pristine\u001b[0m(t,y,x), float32 \u001b[4memissions_atmospheric_drydepo_matrixembedded\u001b[0m(t,y,x), float32 \u001b[4memissions_atmospheric_drydepo_transformed\u001b[0m(t,y,x), float32 \u001b[4memissions_atmospheric_wetdepo_pristine\u001b[0m(t,y,x), float32 \u001b[4memissions_atmospheric_wetdepo_matrixembedded\u001b[0m(t,y,x), float32 \u001b[4memissions_atmospheric_wetdepo_transformed\u001b[0m(t,y,x)\n",
       "    groups: "
      ]
     },
     "execution_count": 7,
     "metadata": {},
     "output_type": "execute_result"
    }
   ],
   "source": [
    "from netCDF4 import Dataset\n",
    "\n",
    "nc = Dataset(nc_path)\n",
    "nc"
   ]
  },
  {
   "cell_type": "markdown",
   "metadata": {},
   "source": [
    "As you can see, our variable `emissions_areal_soil_pristine` is in the list. We can use the variable name as a key on the NetCDF dataset to retrieve this variable:"
   ]
  },
  {
   "cell_type": "code",
   "execution_count": 4,
   "metadata": {},
   "outputs": [
    {
     "data": {
      "text/plain": [
       "<class 'netCDF4._netCDF4.Variable'>\n",
       "float32 emissions_areal_soil_pristine(y, x)\n",
       "    long_name: mass flux of pristine nanomaterial into soil\n",
       "    units: kg/m**2/timestep\n",
       "    grid_mapping: crs\n",
       "unlimited dimensions: \n",
       "current shape = (27, 44)\n",
       "filling on, default _FillValue of 9.969209968386869e+36 used"
      ]
     },
     "execution_count": 4,
     "metadata": {},
     "output_type": "execute_result"
    }
   ],
   "source": [
    "# Use the variable name as a key to get the variable from the NetCDF database\n",
    "var = nc['emissions_areal_soil_pristine']\n",
    "var"
   ]
  },
  {
   "cell_type": "markdown",
   "metadata": {},
   "source": [
    "Modifying this variable is straightforward - we just slice it and assign a new spatial (2D) NumPy array to it. Below we create a randomly filled variable with the same shape (and mask) as the old emissions variable, and then save that to the NetCDF file:"
   ]
  },
  {
   "cell_type": "code",
   "execution_count": 5,
   "metadata": {},
   "outputs": [],
   "source": [
    "import numpy as np\n",
    "import numpy.ma as ma\n",
    "\n",
    "# Use the shape of the old variable to create a new randomly filled variable\n",
    "new_var = np.random.rand(*var.shape)\n",
    "# Mask the new variable using the old variable's mask\n",
    "new_var = ma.masked_array(new_var, mask=var[:].mask)\n",
    "# Change the variable in the NetCDF file to be the new randomly filled variable\n",
    "var[:] = new_var\n",
    "nc.close()"
   ]
  }
 ],
 "metadata": {
  "kernelspec": {
   "display_name": "Python [conda env:dev]",
   "language": "python",
   "name": "conda-env-dev-py"
  },
  "language_info": {
   "codemirror_mode": {
    "name": "ipython",
    "version": 3
   },
   "file_extension": ".py",
   "mimetype": "text/x-python",
   "name": "python",
   "nbconvert_exporter": "python",
   "pygments_lexer": "ipython3",
   "version": "3.7.3"
  }
 },
 "nbformat": 4,
 "nbformat_minor": 4
}
